{
 "cells": [
  {
   "cell_type": "code",
   "execution_count": 1,
   "id": "7958a7a7-6c92-4d00-a71a-8a0c6d698540",
   "metadata": {
    "tags": []
   },
   "outputs": [
    {
     "data": {
      "text/plain": [
       "Rectangle(Point(20, -10), Point(30, -5))"
      ]
     },
     "execution_count": 1,
     "metadata": {},
     "output_type": "execute_result"
    }
   ],
   "source": [
    "data = readlines(\"./data/tmp.txt\")\n",
    "\n",
    "x1, x2, y1, y2 = parse.(Int, match(r\"target area: x=(\\d+)..(\\d+), y=([-]\\d+)..([-]\\d+)\", data[1]).captures)\n",
    "\n",
    "const Point = Tuple{Int,Int}\n",
    "\n",
    "Base.:+(p1::Point, p2::Point) = (p1[1] + p2[1], p1[2] + p2[2])\n",
    "\n",
    "struct Rectangle\n",
    "    corner1::Point\n",
    "    corner2::Point\n",
    "end\n",
    "\n",
    "mutable struct Probe\n",
    "    position::Point\n",
    "    velocity::Point\n",
    "end\n",
    "\n",
    "function update!(p::Probe)\n",
    "    p.position += p.velocity\n",
    "    vx, vy = p.velocity\n",
    "    p.velocity = ((vx > 0) ? (vx-1) : (vx < 0) ? (vx+1) : 0, vy-1)\n",
    "end\n",
    "\n",
    "function launch_probe(vel, target)\n",
    "    p = Probe((0,0), vel)\n",
    "    while check(p, target) < 1\n",
    "        update!(p)\n",
    "    end\n",
    "end\n",
    "\n",
    "target = Rectangle((x1, y1), (x2, y2))"
   ]
  },
  {
   "cell_type": "code",
   "execution_count": null,
   "id": "a2a94e29-cb1b-4650-a9a7-dd20bc177d29",
   "metadata": {},
   "outputs": [],
   "source": []
  },
  {
   "cell_type": "code",
   "execution_count": null,
   "id": "eb50009b-ff40-423d-9eee-40913f52499c",
   "metadata": {},
   "outputs": [],
   "source": []
  },
  {
   "cell_type": "code",
   "execution_count": null,
   "id": "92a195a8-8303-40ae-8be7-778edeecf060",
   "metadata": {},
   "outputs": [],
   "source": []
  },
  {
   "cell_type": "code",
   "execution_count": null,
   "id": "d545f70c-e5b9-4305-bcc1-cb9715a7747f",
   "metadata": {},
   "outputs": [],
   "source": []
  },
  {
   "cell_type": "code",
   "execution_count": null,
   "id": "476ffbad-1610-43b6-a5dd-2217fa64326a",
   "metadata": {},
   "outputs": [],
   "source": []
  },
  {
   "cell_type": "code",
   "execution_count": null,
   "id": "3c680f9f-2cf0-4c75-af1a-3c95df486384",
   "metadata": {},
   "outputs": [],
   "source": []
  },
  {
   "cell_type": "code",
   "execution_count": null,
   "id": "1a1d3cf9-953f-4129-ba2f-710e9152d533",
   "metadata": {},
   "outputs": [],
   "source": []
  },
  {
   "cell_type": "code",
   "execution_count": null,
   "id": "cb524b10-b379-4c76-b3b0-6c0c00663576",
   "metadata": {},
   "outputs": [],
   "source": []
  },
  {
   "cell_type": "code",
   "execution_count": null,
   "id": "f59f88bf-a00c-4eb1-b81b-d689b1f4fadb",
   "metadata": {},
   "outputs": [],
   "source": []
  },
  {
   "cell_type": "code",
   "execution_count": 56,
   "id": "99451dd7-9d06-4948-a814-5ebc2cfdddae",
   "metadata": {},
   "outputs": [
    {
     "name": "stdout",
     "output_type": "stream",
     "text": [
      "Answer 1: 5218\n",
      "Answer 2: 15527\n"
     ]
    }
   ],
   "source": [
    "# day 20\n",
    "include(\"utils.jl\")\n",
    "\n",
    "data = readlines(\"./data/day-20.txt\");\n",
    "\n",
    "algo = collect(data[1]) .== '#' # light -> true; dark -> false\n",
    "origimage = permutedims(hcat(collect.(data[3:end])...), [2,1]) .== '#';\n",
    "\n",
    "function get_padded_image(image, pad_size)\n",
    "    N = size(image, 1)\n",
    "    pimage = fill(false, N+2pad_size, N+2pad_size)\n",
    "    pimage[(pad_size+1):(pad_size+N),(pad_size+1):(pad_size+N)] .= image\n",
    "    return pimage\n",
    "end\n",
    "\n",
    "# window size is 3 and we are planning to apply the algorithm for 2 rounds\n",
    "\n",
    "# get_pad_size_needed(window_size, nrounds) = nrounds + (window_size-1)\n",
    "\n",
    "WINSIZE = 3 # window size\n",
    "PADSIZE = WINSIZE #get_pad_size_needed(WINSIZE, 2)\n",
    "\n",
    "image = get_padded_image(origimage, PADSIZE)\n",
    "\n",
    "N = size(image,1)\n",
    "for step in 1:2\n",
    "    new_image = fill(false, N, N)\n",
    "    for i in 2:(N-1)\n",
    "        for j in 2:(N-1)\n",
    "            idx = bin2int(vec(image[(i-1):(i+1),(j-1):(j+1)]')) + 1 # +1 due to 1-indexing\n",
    "            new_image[i,j] = algo[idx]\n",
    "        end\n",
    "    end\n",
    "    if algo[1]\n",
    "        u = !image[1,1]\n",
    "        new_image[1,:] .= u\n",
    "        new_image[end,:] .= u\n",
    "        new_image[:,1] .= u\n",
    "        new_image[:,end] .= u\n",
    "    end\n",
    "    image = new_image\n",
    "end\n",
    "\n",
    "println(\"Answer 1: \", sum(image))\n",
    "\n",
    "# 50 rounds\n",
    "image = get_padded_image(origimage, 51)\n",
    "\n",
    "N = size(image,1)\n",
    "for step in 1:50\n",
    "    new_image = fill(false, N, N)\n",
    "    for i in 2:(N-1)\n",
    "        for j in 2:(N-1)\n",
    "            idx = bin2int(vec(image[(i-1):(i+1),(j-1):(j+1)]')) + 1 # +1 due to 1-indexing\n",
    "            new_image[i,j] = algo[idx]\n",
    "        end\n",
    "    end\n",
    "    if algo[1]\n",
    "        u = !image[1,1]\n",
    "        new_image[1,:] .= u\n",
    "        new_image[end,:] .= u\n",
    "        new_image[:,1] .= u\n",
    "        new_image[:,end] .= u\n",
    "    end\n",
    "    image = new_image\n",
    "end\n",
    "\n",
    "println(\"Answer 2: \", sum(new_image))"
   ]
  },
  {
   "cell_type": "code",
   "execution_count": null,
   "id": "4a3f062f-0d9b-4b01-94d7-090a1ed3aa0f",
   "metadata": {},
   "outputs": [],
   "source": []
  },
  {
   "cell_type": "code",
   "execution_count": null,
   "id": "f24ac6ba-7da4-4121-8744-6d268dab3151",
   "metadata": {},
   "outputs": [],
   "source": []
  },
  {
   "cell_type": "code",
   "execution_count": 96,
   "id": "3da733a9-06f7-4830-9673-ff9106966df9",
   "metadata": {},
   "outputs": [
    {
     "data": {
      "text/plain": [
       "multiple_rolls! (generic function with 1 method)"
      ]
     },
     "execution_count": 96,
     "metadata": {},
     "output_type": "execute_result"
    }
   ],
   "source": [
    "mutable struct Player\n",
    "    id::Int\n",
    "    position::Int\n",
    "    score::Int\n",
    "    \n",
    "    Player(id, position, score=0) = new(id, position, score)\n",
    "end\n",
    "\n",
    "function update!(p::Player, pos)\n",
    "    p.position = pos\n",
    "    p.score += pos\n",
    "end\n",
    "\n",
    "mutable struct Die\n",
    "    sides::Int\n",
    "    state::Int\n",
    "    \n",
    "    Die(sides, state=0) = new(sides, state)\n",
    "end\n",
    "\n",
    "function roll!(d::Die)\n",
    "    rv = d.state+1 # state -> 0-99\n",
    "    d.state = (d.state + 1) % d.sides\n",
    "    return rv\n",
    "end\n",
    "\n",
    "function multiple_rolls!(d::Die, n)\n",
    "    [roll!(d) for _ in 1:n]\n",
    "end"
   ]
  },
  {
   "cell_type": "code",
   "execution_count": 101,
   "id": "5f294cc1-4fa7-41d3-9d86-e257da0a1dce",
   "metadata": {},
   "outputs": [
    {
     "data": {
      "text/plain": [
       "2-element Vector{String}:\n",
       " \"Player 1 starting position: 6\"\n",
       " \"Player 2 starting position: 3\""
      ]
     },
     "execution_count": 101,
     "metadata": {},
     "output_type": "execute_result"
    }
   ],
   "source": [
    "data = readlines(\"./data/day-21.txt\")"
   ]
  },
  {
   "cell_type": "code",
   "execution_count": 102,
   "id": "cfda4300-5ccd-4baf-9b15-762d13b91900",
   "metadata": {
    "tags": []
   },
   "outputs": [
    {
     "name": "stdout",
     "output_type": "stream",
     "text": [
      "Player 1 won!\n"
     ]
    }
   ],
   "source": [
    "rgx = r\"\"\n",
    "poss = [parse(Int, match(r\"(\\d)$\", l).captures[1]) for l in data]\n",
    "\n",
    "players = [Player(1, poss[1]), Player(2, poss[2])]\n",
    "die = Die(100)\n",
    "\n",
    "nrolls = 0\n",
    "i = 1\n",
    "while true\n",
    "    p = players[i]\n",
    "    r = sum(multiple_rolls!(die, 3))\n",
    "    nxtpos = ((p.position + r) % 10)\n",
    "    nxtpos = (nxtpos == 0) ? 10 : nxtpos\n",
    "    update!(p, nxtpos)\n",
    "    nrolls += 3\n",
    "    if p.score >= 1000\n",
    "        println(\"Player $i won!\")\n",
    "        break\n",
    "    end\n",
    "    # println(\"Player $i\\t$(p.position)\\t$(p.score)\")\n",
    "    i = (i == 1) ? 2 : 1\n",
    "end\n",
    "\n",
    "println(players)\n",
    "\n",
    "nrolls * 749"
   ]
  },
  {
   "cell_type": "code",
   "execution_count": null,
   "id": "d0f166ec-495a-41e6-af34-f196a410d2c7",
   "metadata": {},
   "outputs": [],
   "source": []
  },
  {
   "cell_type": "code",
   "execution_count": null,
   "id": "d6aad249-779b-4601-b4cc-50254bcf8e2c",
   "metadata": {},
   "outputs": [],
   "source": []
  },
  {
   "cell_type": "code",
   "execution_count": null,
   "id": "102c5162-ed57-468d-b866-d9beac7ce903",
   "metadata": {},
   "outputs": [],
   "source": []
  },
  {
   "cell_type": "code",
   "execution_count": null,
   "id": "73ccf045-a464-4592-a3b8-69a240c96558",
   "metadata": {},
   "outputs": [],
   "source": []
  }
 ],
 "metadata": {
  "kernelspec": {
   "display_name": "Julia 1.6.3",
   "language": "julia",
   "name": "julia-1.6"
  },
  "language_info": {
   "file_extension": ".jl",
   "mimetype": "application/julia",
   "name": "julia",
   "version": "1.6.3"
  }
 },
 "nbformat": 4,
 "nbformat_minor": 5
}
