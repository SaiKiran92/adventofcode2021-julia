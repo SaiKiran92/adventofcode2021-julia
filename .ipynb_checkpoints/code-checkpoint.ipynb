{
 "cells": [
  {
   "cell_type": "code",
   "execution_count": 1,
   "id": "7958a7a7-6c92-4d00-a71a-8a0c6d698540",
   "metadata": {
    "tags": []
   },
   "outputs": [
    {
     "data": {
      "text/plain": [
       "Rectangle(Point(20, -10), Point(30, -5))"
      ]
     },
     "execution_count": 1,
     "metadata": {},
     "output_type": "execute_result"
    }
   ],
   "source": [
    "data = readlines(\"./data/tmp.txt\")\n",
    "\n",
    "x1, x2, y1, y2 = parse.(Int, match(r\"target area: x=(\\d+)..(\\d+), y=([-]\\d+)..([-]\\d+)\", data[1]).captures)\n",
    "\n",
    "const Point = Tuple{Int,Int}\n",
    "\n",
    "Base.:+(p1::Point, p2::Point) = (p1[1] + p2[1], p1[2] + p2[2])\n",
    "\n",
    "struct Rectangle\n",
    "    corner1::Point\n",
    "    corner2::Point\n",
    "end\n",
    "\n",
    "mutable struct Probe\n",
    "    position::Point\n",
    "    velocity::Point\n",
    "end\n",
    "\n",
    "function update!(p::Probe)\n",
    "    p.position += p.velocity\n",
    "    vx, vy = p.velocity\n",
    "    p.velocity = ((vx > 0) ? (vx-1) : (vx < 0) ? (vx+1) : 0, vy-1)\n",
    "end\n",
    "\n",
    "function launch_probe(vel, target)\n",
    "    p = Probe((0,0), vel)\n",
    "    while check(p, target) < 1\n",
    "        update!(p)\n",
    "    end\n",
    "end\n",
    "\n",
    "target = Rectangle((x1, y1), (x2, y2))"
   ]
  },
  {
   "cell_type": "code",
   "execution_count": null,
   "id": "a2a94e29-cb1b-4650-a9a7-dd20bc177d29",
   "metadata": {},
   "outputs": [],
   "source": []
  },
  {
   "cell_type": "code",
   "execution_count": null,
   "id": "eb50009b-ff40-423d-9eee-40913f52499c",
   "metadata": {},
   "outputs": [],
   "source": []
  },
  {
   "cell_type": "code",
   "execution_count": null,
   "id": "92a195a8-8303-40ae-8be7-778edeecf060",
   "metadata": {},
   "outputs": [],
   "source": []
  },
  {
   "cell_type": "code",
   "execution_count": null,
   "id": "d545f70c-e5b9-4305-bcc1-cb9715a7747f",
   "metadata": {},
   "outputs": [],
   "source": []
  },
  {
   "cell_type": "code",
   "execution_count": null,
   "id": "476ffbad-1610-43b6-a5dd-2217fa64326a",
   "metadata": {},
   "outputs": [],
   "source": []
  },
  {
   "cell_type": "code",
   "execution_count": null,
   "id": "3c680f9f-2cf0-4c75-af1a-3c95df486384",
   "metadata": {},
   "outputs": [],
   "source": []
  },
  {
   "cell_type": "code",
   "execution_count": null,
   "id": "1a1d3cf9-953f-4129-ba2f-710e9152d533",
   "metadata": {},
   "outputs": [],
   "source": []
  },
  {
   "cell_type": "code",
   "execution_count": null,
   "id": "cb524b10-b379-4c76-b3b0-6c0c00663576",
   "metadata": {},
   "outputs": [],
   "source": []
  },
  {
   "cell_type": "code",
   "execution_count": null,
   "id": "f59f88bf-a00c-4eb1-b81b-d689b1f4fadb",
   "metadata": {},
   "outputs": [],
   "source": []
  },
  {
   "cell_type": "code",
   "execution_count": 56,
   "id": "99451dd7-9d06-4948-a814-5ebc2cfdddae",
   "metadata": {},
   "outputs": [
    {
     "name": "stdout",
     "output_type": "stream",
     "text": [
      "Answer 1: 5218\n",
      "Answer 2: 15527\n"
     ]
    }
   ],
   "source": [
    "# day 20\n",
    "include(\"utils.jl\")\n",
    "\n",
    "data = readlines(\"./data/day-20.txt\");\n",
    "\n",
    "algo = collect(data[1]) .== '#' # light -> true; dark -> false\n",
    "origimage = permutedims(hcat(collect.(data[3:end])...), [2,1]) .== '#';\n",
    "\n",
    "function get_padded_image(image, pad_size)\n",
    "    N = size(image, 1)\n",
    "    pimage = fill(false, N+2pad_size, N+2pad_size)\n",
    "    pimage[(pad_size+1):(pad_size+N),(pad_size+1):(pad_size+N)] .= image\n",
    "    return pimage\n",
    "end\n",
    "\n",
    "# window size is 3 and we are planning to apply the algorithm for 2 rounds\n",
    "\n",
    "# get_pad_size_needed(window_size, nrounds) = nrounds + (window_size-1)\n",
    "\n",
    "WINSIZE = 3 # window size\n",
    "PADSIZE = WINSIZE #get_pad_size_needed(WINSIZE, 2)\n",
    "\n",
    "image = get_padded_image(origimage, PADSIZE)\n",
    "\n",
    "N = size(image,1)\n",
    "for step in 1:2\n",
    "    new_image = fill(false, N, N)\n",
    "    for i in 2:(N-1)\n",
    "        for j in 2:(N-1)\n",
    "            idx = bin2int(vec(image[(i-1):(i+1),(j-1):(j+1)]')) + 1 # +1 due to 1-indexing\n",
    "            new_image[i,j] = algo[idx]\n",
    "        end\n",
    "    end\n",
    "    if algo[1]\n",
    "        u = !image[1,1]\n",
    "        new_image[1,:] .= u\n",
    "        new_image[end,:] .= u\n",
    "        new_image[:,1] .= u\n",
    "        new_image[:,end] .= u\n",
    "    end\n",
    "    image = new_image\n",
    "end\n",
    "\n",
    "println(\"Answer 1: \", sum(image))\n",
    "\n",
    "# 50 rounds\n",
    "image = get_padded_image(origimage, 51)\n",
    "\n",
    "N = size(image,1)\n",
    "for step in 1:50\n",
    "    new_image = fill(false, N, N)\n",
    "    for i in 2:(N-1)\n",
    "        for j in 2:(N-1)\n",
    "            idx = bin2int(vec(image[(i-1):(i+1),(j-1):(j+1)]')) + 1 # +1 due to 1-indexing\n",
    "            new_image[i,j] = algo[idx]\n",
    "        end\n",
    "    end\n",
    "    if algo[1]\n",
    "        u = !image[1,1]\n",
    "        new_image[1,:] .= u\n",
    "        new_image[end,:] .= u\n",
    "        new_image[:,1] .= u\n",
    "        new_image[:,end] .= u\n",
    "    end\n",
    "    image = new_image\n",
    "end\n",
    "\n",
    "println(\"Answer 2: \", sum(new_image))"
   ]
  },
  {
   "cell_type": "code",
   "execution_count": null,
   "id": "4a3f062f-0d9b-4b01-94d7-090a1ed3aa0f",
   "metadata": {},
   "outputs": [],
   "source": []
  },
  {
   "cell_type": "code",
   "execution_count": null,
   "id": "f24ac6ba-7da4-4121-8744-6d268dab3151",
   "metadata": {},
   "outputs": [],
   "source": []
  },
  {
   "cell_type": "code",
   "execution_count": 96,
   "id": "3da733a9-06f7-4830-9673-ff9106966df9",
   "metadata": {},
   "outputs": [
    {
     "data": {
      "text/plain": [
       "multiple_rolls! (generic function with 1 method)"
      ]
     },
     "execution_count": 96,
     "metadata": {},
     "output_type": "execute_result"
    }
   ],
   "source": [
    "mutable struct Player\n",
    "    id::Int\n",
    "    position::Int\n",
    "    score::Int\n",
    "    \n",
    "    Player(id, position, score=0) = new(id, position, score)\n",
    "end\n",
    "\n",
    "function update!(p::Player, pos)\n",
    "    p.position = pos\n",
    "    p.score += pos\n",
    "end\n",
    "\n",
    "mutable struct Die\n",
    "    sides::Int\n",
    "    state::Int\n",
    "    \n",
    "    Die(sides, state=0) = new(sides, state)\n",
    "end\n",
    "\n",
    "function roll!(d::Die)\n",
    "    rv = d.state+1 # state -> 0-99\n",
    "    d.state = (d.state + 1) % d.sides\n",
    "    return rv\n",
    "end\n",
    "\n",
    "function multiple_rolls!(d::Die, n)\n",
    "    [roll!(d) for _ in 1:n]\n",
    "end"
   ]
  },
  {
   "cell_type": "code",
   "execution_count": 8,
   "id": "5f294cc1-4fa7-41d3-9d86-e257da0a1dce",
   "metadata": {},
   "outputs": [
    {
     "data": {
      "text/plain": [
       "2-element Vector{String}:\n",
       " \"Player 1 starting position: 6\"\n",
       " \"Player 2 starting position: 3\""
      ]
     },
     "execution_count": 8,
     "metadata": {},
     "output_type": "execute_result"
    }
   ],
   "source": [
    "data = readlines(\"./data/day-21.txt\")"
   ]
  },
  {
   "cell_type": "code",
   "execution_count": 102,
   "id": "cfda4300-5ccd-4baf-9b15-762d13b91900",
   "metadata": {
    "tags": []
   },
   "outputs": [
    {
     "name": "stdout",
     "output_type": "stream",
     "text": [
      "Player 1 won!\n"
     ]
    }
   ],
   "source": [
    "poss = [parse(Int, match(r\"(\\d)$\", l).captures[1]) for l in data]\n",
    "\n",
    "players = [Player(1, poss[1]), Player(2, poss[2])]\n",
    "die = Die(100)\n",
    "\n",
    "nrolls = 0\n",
    "i = 1\n",
    "while true\n",
    "    p = players[i]\n",
    "    r = sum(multiple_rolls!(die, 3))\n",
    "    nxtpos = ((p.position + r) % 10)\n",
    "    nxtpos = (nxtpos == 0) ? 10 : nxtpos\n",
    "    update!(p, nxtpos)\n",
    "    nrolls += 3\n",
    "    if p.score >= 1000\n",
    "        println(\"Player $i won!\")\n",
    "        break\n",
    "    end\n",
    "    # println(\"Player $i\\t$(p.position)\\t$(p.score)\")\n",
    "    i = (i == 1) ? 2 : 1\n",
    "end\n",
    "\n",
    "println(players)\n",
    "\n",
    "nrolls * 749"
   ]
  },
  {
   "cell_type": "code",
   "execution_count": 2,
   "id": "09e19adc-5453-4ac5-8f5f-f638d25d2eab",
   "metadata": {},
   "outputs": [],
   "source": [
    "TARGETSCORE = 21\n",
    "TRACKSIZE = 10\n",
    "\n",
    "struct GameState\n",
    "    positions::Tuple{Int,Int}\n",
    "    scores::Tuple{Int,Int}\n",
    "    turn::Int\n",
    "end"
   ]
  },
  {
   "cell_type": "code",
   "execution_count": 3,
   "id": "a7c8f30d-b337-4a60-ade0-e1e1bace486c",
   "metadata": {
    "collapsed": true,
    "jupyter": {
     "outputs_hidden": true
    },
    "tags": []
   },
   "outputs": [
    {
     "ename": "LoadError",
     "evalue": "UndefVarError: data not defined",
     "output_type": "error",
     "traceback": [
      "UndefVarError: data not defined",
      "",
      "Stacktrace:",
      " [1] top-level scope",
      "   @ In[3]:1",
      " [2] eval",
      "   @ ./boot.jl:360 [inlined]",
      " [3] include_string(mapexpr::typeof(REPL.softscope), mod::Module, code::String, filename::String)",
      "   @ Base ./loading.jl:1116"
     ]
    }
   ],
   "source": [
    "poss = [parse(Int, match(r\"(\\d)$\", l).captures[1]) for l in data]\n",
    "\n"
   ]
  },
  {
   "cell_type": "code",
   "execution_count": 12,
   "id": "7ee50138-33fa-409f-a307-f4601859b156",
   "metadata": {},
   "outputs": [
    {
     "data": {
      "text/plain": [
       "GameState((4, 8), (0, 0), 1)"
      ]
     },
     "execution_count": 12,
     "metadata": {},
     "output_type": "execute_result"
    }
   ],
   "source": []
  },
  {
   "cell_type": "code",
   "execution_count": 8,
   "id": "a3565ae1-6920-401d-b98c-7a0ed7419e67",
   "metadata": {},
   "outputs": [
    {
     "data": {
      "text/plain": [
       "get_next_states (generic function with 1 method)"
      ]
     },
     "execution_count": 8,
     "metadata": {},
     "output_type": "execute_result"
    }
   ],
   "source": [
    "mod1idx(a, b) = mod(a-1, b) + 1\n",
    "\n",
    "function get_next_states(state::GameState)\n",
    "    i = state.turn # player ID\n",
    "    p = state.positions[i]\n",
    "    \n",
    "    p = p .+ (1:9)\n",
    "    p = mod1idx.(p, TRACKSIZE)\n",
    "    \n",
    "    newpositions = [(i == 1) ? (pi, state.positions[2]) : (state.positions[1], pi) for pi in p]\n",
    "    newscores = [(i == 1) ? (state.scores[1] + pi, state.scores[2]) : (state.scores[1], state.scores[2] + pi) for pi in p]\n",
    "    nxtturn = (i == 1) ? 2 : 1\n",
    "    \n",
    "    return [GameState(np, ns, nxtturn) for (np, ns) in zip(newpositions, newscores)]\n",
    "end"
   ]
  },
  {
   "cell_type": "code",
   "execution_count": 28,
   "id": "380b44c6-9def-42d7-b5b4-d335a0092c36",
   "metadata": {
    "tags": []
   },
   "outputs": [
    {
     "name": "stdout",
     "output_type": "stream",
     "text": [
      "50669\n"
     ]
    }
   ],
   "source": [
    "TARGETSCORE = 21\n",
    "state_dict = Dict{GameState, Vector{GameState}}()\n",
    "init_state = GameState((4,8), (0, 0), 1)\n",
    "\n",
    "S = Set([init_state])\n",
    "\n",
    "step = 0\n",
    "while !isempty(S)\n",
    "    state = pop!(S)\n",
    "    if any(state.scores .≥ TARGETSCORE) && !(state in keys(state_dict))\n",
    "        state_dict[state] = GameState[]\n",
    "    elseif !(state in keys(state_dict))\n",
    "        next_states = filter(s -> !(s in keys(state_dict)), get_next_states(state))\n",
    "        state_dict[state] = next_states\n",
    "        union!(S, next_states)\n",
    "    end\n",
    "    step += 1\n",
    "    # println(step, \"\\t\", length(S))\n",
    "end\n",
    "println(length(state_dict))"
   ]
  },
  {
   "cell_type": "code",
   "execution_count": 29,
   "id": "033c5a17-e40c-4ee5-bbe6-fc9a5a65f49b",
   "metadata": {},
   "outputs": [
    {
     "data": {
      "text/plain": [
       "Dict{GameState, Vector{GameState}} with 50669 entries:\n",
       "  GameState((3, 3), (7, 20), 1)   => [GameState((10, 3), (17, 20), 2)]\n",
       "  GameState((7, 6), (19, 7), 2)   => [GameState((7, 7), (19, 14), 1), GameState…\n",
       "  GameState((2, 9), (13, 24), 1)  => []\n",
       "  GameState((8, 9), (11, 14), 1)  => [GameState((9, 9), (20, 14), 2), GameState…\n",
       "  GameState((5, 1), (12, 3), 1)   => []\n",
       "  GameState((1, 1), (12, 16), 1)  => [GameState((3, 1), (15, 16), 2), GameState…\n",
       "  GameState((4, 4), (11, 17), 1)  => [GameState((5, 4), (16, 17), 2), GameState…\n",
       "  GameState((7, 3), (11, 18), 2)  => [GameState((7, 7), (11, 25), 1), GameState…\n",
       "  GameState((10, 4), (16, 7), 1)  => [GameState((1, 4), (17, 7), 2), GameState(…\n",
       "  GameState((4, 6), (18, 20), 1)  => [GameState((5, 6), (23, 20), 2), GameState…\n",
       "  GameState((5, 1), (16, 6), 1)   => [GameState((6, 1), (22, 6), 2), GameState(…\n",
       "  GameState((8, 6), (13, 18), 2)  => [GameState((8, 7), (13, 25), 1), GameState…\n",
       "  GameState((6, 1), (16, 11), 1)  => [GameState((7, 1), (23, 11), 2), GameState…\n",
       "  GameState((4, 9), (18, 17), 2)  => [GameState((4, 10), (18, 27), 1), GameStat…\n",
       "  GameState((7, 7), (12, 24), 1)  => []\n",
       "  GameState((8, 8), (16, 19), 2)  => [GameState((8, 9), (16, 28), 1), GameState…\n",
       "  GameState((8, 6), (20, 16), 2)  => [GameState((8, 7), (20, 23), 1), GameState…\n",
       "  GameState((6, 4), (25, 19), 2)  => []\n",
       "  GameState((6, 10), (12, 14), 2) => [GameState((6, 6), (12, 20), 1), GameState…\n",
       "  GameState((5, 4), (20, 11), 1)  => [GameState((8, 4), (28, 11), 2), GameState…\n",
       "  GameState((6, 3), (9, 18), 1)   => [GameState((10, 3), (19, 18), 2), GameStat…\n",
       "  GameState((1, 3), (13, 12), 2)  => [GameState((1, 4), (13, 16), 1), GameState…\n",
       "  GameState((5, 1), (11, 10), 1)  => [GameState((10, 1), (21, 10), 2), GameStat…\n",
       "  GameState((2, 4), (19, 9), 2)   => [GameState((2, 5), (19, 14), 1), GameState…\n",
       "  GameState((3, 5), (9, 6), 2)    => [GameState((3, 10), (9, 16), 1)]\n",
       "  ⋮                               => ⋮"
      ]
     },
     "execution_count": 29,
     "metadata": {},
     "output_type": "execute_result"
    }
   ],
   "source": [
    "state_dict"
   ]
  },
  {
   "cell_type": "code",
   "execution_count": 30,
   "id": "1d0178ca-e5f6-4eb7-931c-b561ee39c98b",
   "metadata": {},
   "outputs": [],
   "source": [
    "rev_state_dict = Dict(k => GameState[] for k in keys(state_dict))\n",
    "\n",
    "for (state, nstates) in pairs(state_dict)\n",
    "    for nstate in nstates\n",
    "        push!(rev_state_dict[nstate], state)\n",
    "    end\n",
    "end"
   ]
  },
  {
   "cell_type": "code",
   "execution_count": 31,
   "id": "7c8ad6dc-7e8e-48de-93e1-0d6806059700",
   "metadata": {
    "collapsed": true,
    "jupyter": {
     "outputs_hidden": true
    },
    "tags": []
   },
   "outputs": [
    {
     "data": {
      "text/plain": [
       "Dict{GameState, Vector{GameState}} with 50669 entries:\n",
       "  GameState((3, 3), (7, 20), 1)  => [GameState((3, 5), (7, 17), 2)]\n",
       "  GameState((3, 7), (7, 17), 2)  => [GameState((1, 7), (4, 17), 1)]\n",
       "  GameState((7, 6), (19, 7), 2)  => [GameState((5, 6), (12, 7), 1)]\n",
       "  GameState((2, 9), (13, 24), 1) => [GameState((2, 6), (13, 15), 2)]\n",
       "  GameState((7, 8), (26, 15), 2) => [GameState((1, 8), (19, 15), 1)]\n",
       "  GameState((8, 9), (11, 14), 1) => [GameState((8, 4), (11, 5), 2)]\n",
       "  GameState((7, 1), (26, 6), 2)  => [GameState((8, 1), (19, 6), 1)]\n",
       "  GameState((5, 1), (12, 3), 1)  => [GameState((5, 2), (12, 2), 2)]\n",
       "  GameState((9, 5), (15, 19), 2) => [GameState((1, 5), (6, 19), 1)]\n",
       "  GameState((2, 6), (7, 18), 1)  => [GameState((2, 9), (7, 12), 2)]\n",
       "  GameState((8, 7), (11, 13), 2) => [GameState((1, 7), (3, 13), 1)]\n",
       "  GameState((1, 1), (12, 16), 1) => [GameState((1, 4), (12, 15), 2)]\n",
       "  GameState((4, 4), (11, 17), 1) => [GameState((4, 8), (11, 13), 2)]\n",
       "  GameState((5, 6), (18, 11), 2) => [GameState((1, 6), (13, 11), 1)]\n",
       "  GameState((8, 3), (18, 3), 2)  => [GameState((10, 3), (10, 3), 1)]\n",
       "  GameState((5, 4), (14, 16), 1) => [GameState((5, 3), (14, 12), 2)]\n",
       "  GameState((7, 3), (11, 18), 2) => [GameState((1, 3), (4, 18), 1)]\n",
       "  GameState((6, 3), (7, 7), 1)   => [GameState((6, 4), (7, 4), 2)]\n",
       "  GameState((3, 3), (4, 10), 1)  => [GameState((3, 7), (4, 7), 2)]\n",
       "  GameState((10, 4), (16, 7), 1) => [GameState((10, 1), (16, 3), 2)]\n",
       "  GameState((4, 6), (18, 20), 1) => [GameState((4, 1), (18, 14), 2)]\n",
       "  GameState((5, 1), (16, 6), 1)  => [GameState((5, 3), (16, 5), 2)]\n",
       "  GameState((8, 6), (13, 18), 2) => [GameState((1, 6), (5, 18), 1)]\n",
       "  GameState((6, 1), (16, 11), 1) => [GameState((6, 2), (16, 10), 2)]\n",
       "  GameState((2, 1), (20, 12), 2) => [GameState((5, 1), (18, 12), 1)]\n",
       "  ⋮                              => ⋮"
      ]
     },
     "execution_count": 31,
     "metadata": {},
     "output_type": "execute_result"
    }
   ],
   "source": [
    "rev_state_dict"
   ]
  },
  {
   "cell_type": "code",
   "execution_count": null,
   "id": "3584f458-ddc5-4b15-8c60-4b980167fe5b",
   "metadata": {},
   "outputs": [],
   "source": []
  },
  {
   "cell_type": "code",
   "execution_count": null,
   "id": "102c5162-ed57-468d-b866-d9beac7ce903",
   "metadata": {},
   "outputs": [],
   "source": []
  },
  {
   "cell_type": "code",
   "execution_count": null,
   "id": "73ccf045-a464-4592-a3b8-69a240c96558",
   "metadata": {},
   "outputs": [],
   "source": []
  }
 ],
 "metadata": {
  "kernelspec": {
   "display_name": "Julia 1.6.3",
   "language": "julia",
   "name": "julia-1.6"
  },
  "language_info": {
   "file_extension": ".jl",
   "mimetype": "application/julia",
   "name": "julia",
   "version": "1.6.3"
  }
 },
 "nbformat": 4,
 "nbformat_minor": 5
}
